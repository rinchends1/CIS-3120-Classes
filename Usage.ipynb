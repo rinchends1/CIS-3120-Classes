{
 "cells": [
  {
   "cell_type": "code",
   "execution_count": 2,
   "id": "6b88b4bc-a5c4-436d-9eed-8e95600f6d53",
   "metadata": {
    "editable": true,
    "slideshow": {
     "slide_type": ""
    },
    "tags": []
   },
   "outputs": [],
   "source": [
    "from Animal import Animal"
   ]
  },
  {
   "cell_type": "code",
   "execution_count": 3,
   "id": "738a52e3-faf1-4f92-8835-fed5b5e36dfe",
   "metadata": {
    "editable": true,
    "slideshow": {
     "slide_type": ""
    },
    "tags": []
   },
   "outputs": [
    {
     "name": "stdout",
     "output_type": "stream",
     "text": [
      "hello, I am, Rinchen\n",
      "hi\n"
     ]
    }
   ],
   "source": [
    "x = Animal(\"Rinchen\")\n",
    "x.talk()"
   ]
  },
  {
   "cell_type": "code",
   "execution_count": 4,
   "id": "564e4674",
   "metadata": {},
   "outputs": [
    {
     "name": "stdout",
     "output_type": "stream",
     "text": [
      "Hello, I am Buddy, a Dog.\n",
      "My name is Buddy, I am a Brown Dog, and I am 3 years old.\n",
      "Woof! Woof!\n",
      "Breed: Labrador\n",
      "Happy Birthday! I am now 4 years old, and I am Brown in color.\n",
      "Hello, I am Whiskers, a Cat.\n",
      "My name is Whiskers, I am a White Cat, and I am 2 years old.\n",
      "Meow! Meow!\n",
      "Breed: Persian\n",
      "Happy Birthday! I am now 3 years old, and I am White in color.\n",
      "Hello, I am Polly, a Parrot.\n",
      "My name is Polly, I am a Green Parrot, and I am 1 years old.\n",
      "Chirp! Chirp!\n",
      "Polly is flying!\n"
     ]
    }
   ],
   "source": [
    "class Animal:\n",
    "    def __init__(self, name, species, age, color): \n",
    "        self.__name = name\n",
    "        self.__species = species\n",
    "        self.__age = age\n",
    "        self.__color = color\n",
    "        print(f\"Hello, I am {self.__name}, a {self.__species}.\")\n",
    "\n",
    "    def talk(self):\n",
    "        print(\"Hi\")\n",
    "\n",
    "    def get_name(self):\n",
    "        return self.__name\n",
    "\n",
    "    def set_name(self, new_name):\n",
    "        self.__name = new_name\n",
    "        print(f\"My new name is {self.__name}\")\n",
    "\n",
    "    def get_species(self):\n",
    "        return self.__species\n",
    "\n",
    "    def get_age(self):\n",
    "        return self.__age\n",
    "\n",
    "    def get_color(self): \n",
    "        return self.__color\n",
    "\n",
    "    def birthday(self):\n",
    "        self.__age += 1\n",
    "        print(f\"Happy Birthday! I am now {self.__age} years old, and I am {self.__color} in color.\")\n",
    "\n",
    "    def describe(self):\n",
    "        print(f\"My name is {self.__name}, I am a {self.__color} {self.__species}, and I am {self.__age} years old.\")\n",
    "\n",
    "# Subclasses for specific animals\n",
    "class Dog(Animal):\n",
    "    def __init__(self, name, age, color, breed):\n",
    "        super().__init__(name, \"Dog\", age, color)\n",
    "        self.__breed = breed\n",
    "\n",
    "    def talk(self):\n",
    "        print(\"Woof! Woof!\")\n",
    "\n",
    "    def get_breed(self):\n",
    "        return self.__breed\n",
    "\n",
    "class Cat(Animal):\n",
    "    def __init__(self, name, age, color, breed):\n",
    "        super().__init__(name, \"Cat\", age, color)\n",
    "        self.__breed = breed\n",
    "\n",
    "    def talk(self):\n",
    "        print(\"Meow! Meow!\")\n",
    "\n",
    "    def get_breed(self):\n",
    "        return self.__breed\n",
    "\n",
    "class Bird(Animal):\n",
    "    def __init__(self, name, age, color, species, can_fly=True):\n",
    "        super().__init__(name, species, age, color)\n",
    "        self.__can_fly = can_fly\n",
    "\n",
    "    def talk(self):\n",
    "        print(\"Chirp! Chirp!\")\n",
    "\n",
    "    def fly(self):\n",
    "        if self.__can_fly:\n",
    "            print(f\"{self.get_name()} is flying!\")\n",
    "        else:\n",
    "            print(f\"{self.get_name()} can't fly.\")\n",
    "\n",
    "# Testing the classes\n",
    "if __name__ == \"__main__\":\n",
    "    dog = Dog(\"Buddy\", 3, \"Brown\", \"Labrador\")\n",
    "    dog.describe()\n",
    "    dog.talk()\n",
    "    print(f\"Breed: {dog.get_breed()}\")\n",
    "    dog.birthday()\n",
    "\n",
    "    cat = Cat(\"Whiskers\", 2, \"White\", \"Persian\")\n",
    "    cat.describe()\n",
    "    cat.talk()\n",
    "    print(f\"Breed: {cat.get_breed()}\")\n",
    "    cat.birthday()\n",
    "\n",
    "    parrot = Bird(\"Polly\", 1, \"Green\", \"Parrot\")\n",
    "    parrot.describe()\n",
    "    parrot.talk()\n",
    "    parrot.fly()"
   ]
  },
  {
   "cell_type": "code",
   "execution_count": null,
   "id": "5ca0f158",
   "metadata": {},
   "outputs": [],
   "source": []
  }
 ],
 "metadata": {
  "kernelspec": {
   "display_name": "base",
   "language": "python",
   "name": "python3"
  },
  "language_info": {
   "codemirror_mode": {
    "name": "ipython",
    "version": 3
   },
   "file_extension": ".py",
   "mimetype": "text/x-python",
   "name": "python",
   "nbconvert_exporter": "python",
   "pygments_lexer": "ipython3",
   "version": "3.11.5"
  }
 },
 "nbformat": 4,
 "nbformat_minor": 5
}
